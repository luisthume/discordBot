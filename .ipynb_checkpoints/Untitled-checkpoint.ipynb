{
 "cells": [
  {
   "cell_type": "code",
   "execution_count": 16,
   "id": "cubic-funds",
   "metadata": {},
   "outputs": [],
   "source": [
    "import requests\n",
    "import json"
   ]
  },
  {
   "cell_type": "code",
   "execution_count": 2,
   "id": "nearby-sperm",
   "metadata": {},
   "outputs": [],
   "source": [
    "r = requests.get('https://zenquotes.io/api/random')"
   ]
  },
  {
   "cell_type": "code",
   "execution_count": 8,
   "id": "bottom-palestine",
   "metadata": {},
   "outputs": [
    {
     "data": {
      "text/plain": [
       "'Those who bring sunshine into the lives of others cannot keep it from themselves.'"
      ]
     },
     "execution_count": 8,
     "metadata": {},
     "output_type": "execute_result"
    }
   ],
   "source": [
    "r.json()[0]['q']"
   ]
  },
  {
   "cell_type": "code",
   "execution_count": 14,
   "id": "pressed-gregory",
   "metadata": {},
   "outputs": [
    {
     "data": {
      "text/plain": [
       "'Those who bring sunshine into the lives of others cannot keep it from themselves.-James Matthew Barrie'"
      ]
     },
     "execution_count": 14,
     "metadata": {},
     "output_type": "execute_result"
    }
   ],
   "source": [
    "r.json()[0]['q'] + '-' + r.json()[0]['a']"
   ]
  },
  {
   "cell_type": "code",
   "execution_count": 61,
   "id": "peripheral-meditation",
   "metadata": {},
   "outputs": [],
   "source": [
    "def write_json(data, filename='hours.json'): \n",
    "    with open(filename,'w') as f: \n",
    "        json.dump(data, f, indent=4) \n",
    "\n",
    "with open('hours.json') as json_file: \n",
    "    data = json.load(json_file)\n",
    "    \n",
    "    data['zinid'] = 1\n",
    "    y = {}\n",
    "  \n",
    "  \n",
    "    # appending data to emp_details  \n",
    "    data.update(y) \n",
    "      \n",
    "write_json(data)"
   ]
  },
  {
   "cell_type": "code",
   "execution_count": 29,
   "id": "warming-insured",
   "metadata": {},
   "outputs": [
    {
     "data": {
      "text/plain": [
       "['zinid']"
      ]
     },
     "execution_count": 29,
     "metadata": {},
     "output_type": "execute_result"
    }
   ],
   "source": [
    "list(data.keys())"
   ]
  },
  {
   "cell_type": "code",
   "execution_count": null,
   "id": "fixed-plastic",
   "metadata": {},
   "outputs": [],
   "source": [
    "data"
   ]
  }
 ],
 "metadata": {
  "kernelspec": {
   "display_name": "Python 3",
   "language": "python",
   "name": "python3"
  },
  "language_info": {
   "codemirror_mode": {
    "name": "ipython",
    "version": 3
   },
   "file_extension": ".py",
   "mimetype": "text/x-python",
   "name": "python",
   "nbconvert_exporter": "python",
   "pygments_lexer": "ipython3",
   "version": "3.8.5"
  }
 },
 "nbformat": 4,
 "nbformat_minor": 5
}
